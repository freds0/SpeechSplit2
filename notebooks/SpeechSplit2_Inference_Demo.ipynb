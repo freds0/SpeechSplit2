{
  "nbformat": 4,
  "nbformat_minor": 0,
  "metadata": {
    "colab": {
      "name": "SpeechSplit2 Inference Demo.ipynb",
      "provenance": [],
      "collapsed_sections": []
    },
    "kernelspec": {
      "name": "python3",
      "display_name": "Python 3"
    },
    "language_info": {
      "name": "python"
    },
    "accelerator": "GPU",
    "gpuClass": "standard"
  },
  "cells": [
    {
      "cell_type": "markdown",
      "source": [
        "# SpeechSplit 2.0 Demo\n",
        "\n",
        "This notebook is a demonstration of how to use Speech Split 2. First you need to download the source code from the repository on github:"
      ],
      "metadata": {
        "id": "jD5Ef2P6mrjL"
      }
    },
    {
      "cell_type": "code",
      "execution_count": null,
      "metadata": {
        "colab": {
          "base_uri": "https://localhost:8080/"
        },
        "id": "0IVuydnIcjrd",
        "outputId": "b8cb6a49-d159-495e-9777-5ef16ab0f96a"
      },
      "outputs": [
        {
          "output_type": "stream",
          "name": "stdout",
          "text": [
            "Cloning into 'SpeechSplit2'...\n",
            "remote: Enumerating objects: 36, done.\u001b[K\n",
            "remote: Counting objects: 100% (36/36), done.\u001b[K\n",
            "remote: Compressing objects: 100% (29/29), done.\u001b[K\n",
            "remote: Total 36 (delta 10), reused 25 (delta 5), pack-reused 0\u001b[K\n",
            "Unpacking objects: 100% (36/36), done.\n"
          ]
        }
      ],
      "source": [
        "!git clone https://github.com/biggytruck/SpeechSplit2"
      ]
    },
    {
      "cell_type": "code",
      "source": [
        "import os\n",
        "os.chdir('/content/SpeechSplit2')"
      ],
      "metadata": {
        "id": "LlT37sw_crwv"
      },
      "execution_count": null,
      "outputs": []
    },
    {
      "cell_type": "markdown",
      "source": [
        "Install requirments"
      ],
      "metadata": {
        "id": "jVjpg4BMmv1g"
      }
    },
    {
      "cell_type": "code",
      "source": [
        "!pip install pyyaml numpy pysoundfile tqdm wavenet_vocoder pysptk librosa pyworld "
      ],
      "metadata": {
        "colab": {
          "base_uri": "https://localhost:8080/"
        },
        "id": "WIaWI4a6c1Vo",
        "outputId": "9cdf5ad9-fac3-47c3-f83a-af5edfa1b1cb"
      },
      "execution_count": null,
      "outputs": [
        {
          "output_type": "stream",
          "name": "stdout",
          "text": [
            "Looking in indexes: https://pypi.org/simple, https://us-python.pkg.dev/colab-wheels/public/simple/\n",
            "Requirement already satisfied: pyyaml in /usr/local/lib/python3.7/dist-packages (3.13)\n",
            "Requirement already satisfied: numpy in /usr/local/lib/python3.7/dist-packages (1.21.6)\n",
            "Collecting pysoundfile\n",
            "  Downloading PySoundFile-0.9.0.post1-py2.py3-none-any.whl (24 kB)\n",
            "Requirement already satisfied: tqdm in /usr/local/lib/python3.7/dist-packages (4.64.0)\n",
            "Collecting wavenet_vocoder\n",
            "  Downloading wavenet_vocoder-0.1.1.tar.gz (13 kB)\n",
            "Collecting pysptk\n",
            "  Downloading pysptk-0.1.21.tar.gz (420 kB)\n",
            "\u001b[K     |████████████████████████████████| 420 kB 6.5 MB/s \n",
            "\u001b[?25h  Installing build dependencies ... \u001b[?25l\u001b[?25hdone\n",
            "  Getting requirements to build wheel ... \u001b[?25l\u001b[?25hdone\n",
            "    Preparing wheel metadata ... \u001b[?25l\u001b[?25hdone\n",
            "Requirement already satisfied: librosa in /usr/local/lib/python3.7/dist-packages (0.8.1)\n",
            "Collecting pyworld\n",
            "  Downloading pyworld-0.3.0.tar.gz (212 kB)\n",
            "\u001b[K     |████████████████████████████████| 212 kB 53.6 MB/s \n",
            "\u001b[?25h  Installing build dependencies ... \u001b[?25l\u001b[?25hdone\n",
            "  Getting requirements to build wheel ... \u001b[?25l\u001b[?25hdone\n",
            "    Preparing wheel metadata ... \u001b[?25l\u001b[?25hdone\n",
            "Requirement already satisfied: cffi>=0.6 in /usr/local/lib/python3.7/dist-packages (from pysoundfile) (1.15.0)\n",
            "Requirement already satisfied: pycparser in /usr/local/lib/python3.7/dist-packages (from cffi>=0.6->pysoundfile) (2.21)\n",
            "Requirement already satisfied: scipy in /usr/local/lib/python3.7/dist-packages (from wavenet_vocoder) (1.4.1)\n",
            "Requirement already satisfied: torch>=0.4.1 in /usr/local/lib/python3.7/dist-packages (from wavenet_vocoder) (1.11.0+cu113)\n",
            "Requirement already satisfied: typing-extensions in /usr/local/lib/python3.7/dist-packages (from torch>=0.4.1->wavenet_vocoder) (4.2.0)\n",
            "Requirement already satisfied: cython>=0.28.0 in /usr/local/lib/python3.7/dist-packages (from pysptk) (0.29.30)\n",
            "Requirement already satisfied: decorator in /usr/local/lib/python3.7/dist-packages (from pysptk) (4.4.2)\n",
            "Requirement already satisfied: six in /usr/local/lib/python3.7/dist-packages (from pysptk) (1.15.0)\n",
            "Requirement already satisfied: resampy>=0.2.2 in /usr/local/lib/python3.7/dist-packages (from librosa) (0.2.2)\n",
            "Requirement already satisfied: audioread>=2.0.0 in /usr/local/lib/python3.7/dist-packages (from librosa) (2.1.9)\n",
            "Requirement already satisfied: packaging>=20.0 in /usr/local/lib/python3.7/dist-packages (from librosa) (21.3)\n",
            "Requirement already satisfied: soundfile>=0.10.2 in /usr/local/lib/python3.7/dist-packages (from librosa) (0.10.3.post1)\n",
            "Requirement already satisfied: pooch>=1.0 in /usr/local/lib/python3.7/dist-packages (from librosa) (1.6.0)\n",
            "Requirement already satisfied: joblib>=0.14 in /usr/local/lib/python3.7/dist-packages (from librosa) (1.1.0)\n",
            "Requirement already satisfied: scikit-learn!=0.19.0,>=0.14.0 in /usr/local/lib/python3.7/dist-packages (from librosa) (1.0.2)\n",
            "Requirement already satisfied: numba>=0.43.0 in /usr/local/lib/python3.7/dist-packages (from librosa) (0.51.2)\n",
            "Requirement already satisfied: setuptools in /usr/local/lib/python3.7/dist-packages (from numba>=0.43.0->librosa) (57.4.0)\n",
            "Requirement already satisfied: llvmlite<0.35,>=0.34.0.dev0 in /usr/local/lib/python3.7/dist-packages (from numba>=0.43.0->librosa) (0.34.0)\n",
            "Requirement already satisfied: pyparsing!=3.0.5,>=2.0.2 in /usr/local/lib/python3.7/dist-packages (from packaging>=20.0->librosa) (3.0.9)\n",
            "Requirement already satisfied: requests>=2.19.0 in /usr/local/lib/python3.7/dist-packages (from pooch>=1.0->librosa) (2.23.0)\n",
            "Requirement already satisfied: appdirs>=1.3.0 in /usr/local/lib/python3.7/dist-packages (from pooch>=1.0->librosa) (1.4.4)\n",
            "Requirement already satisfied: idna<3,>=2.5 in /usr/local/lib/python3.7/dist-packages (from requests>=2.19.0->pooch>=1.0->librosa) (2.10)\n",
            "Requirement already satisfied: certifi>=2017.4.17 in /usr/local/lib/python3.7/dist-packages (from requests>=2.19.0->pooch>=1.0->librosa) (2022.5.18.1)\n",
            "Requirement already satisfied: urllib3!=1.25.0,!=1.25.1,<1.26,>=1.21.1 in /usr/local/lib/python3.7/dist-packages (from requests>=2.19.0->pooch>=1.0->librosa) (1.24.3)\n",
            "Requirement already satisfied: chardet<4,>=3.0.2 in /usr/local/lib/python3.7/dist-packages (from requests>=2.19.0->pooch>=1.0->librosa) (3.0.4)\n",
            "Requirement already satisfied: threadpoolctl>=2.0.0 in /usr/local/lib/python3.7/dist-packages (from scikit-learn!=0.19.0,>=0.14.0->librosa) (3.1.0)\n",
            "Building wheels for collected packages: wavenet-vocoder, pysptk, pyworld\n",
            "  Building wheel for wavenet-vocoder (setup.py) ... \u001b[?25l\u001b[?25hdone\n",
            "  Created wheel for wavenet-vocoder: filename=wavenet_vocoder-0.1.1-py3-none-any.whl size=12680 sha256=208f2081284e54b7fd593b981f904af7062f18032e881984ebbca43057316134\n",
            "  Stored in directory: /root/.cache/pip/wheels/45/b9/b3/5961fda4d2ba5bc9a8d416844b30d590f597674a690162766f\n",
            "  Building wheel for pysptk (PEP 517) ... \u001b[?25l\u001b[?25hdone\n",
            "  Created wheel for pysptk: filename=pysptk-0.1.21-cp37-cp37m-linux_x86_64.whl size=952295 sha256=7082152a50d876415257e591b81ae356d82f300eebce844ffd511b8d7eeb04c4\n",
            "  Stored in directory: /root/.cache/pip/wheels/ab/3d/14/d7179b072549e93b6b5d76eb8b455f3a9d39a10f314660a385\n",
            "  Building wheel for pyworld (PEP 517) ... \u001b[?25l\u001b[?25hdone\n",
            "  Created wheel for pyworld: filename=pyworld-0.3.0-cp37-cp37m-linux_x86_64.whl size=609481 sha256=5f92e8ed3fe73f8be17b7dc4e4c53c3f0b009b61625cf0db681e8e9905877980\n",
            "  Stored in directory: /root/.cache/pip/wheels/e7/7c/11/c775fffa0e1e7b05a6604b4323408a77f80fb4ab304d96b5c6\n",
            "Successfully built wavenet-vocoder pysptk pyworld\n",
            "Installing collected packages: wavenet-vocoder, pyworld, pysptk, pysoundfile\n",
            "Successfully installed pysoundfile-0.9.0.post1 pysptk-0.1.21 pyworld-0.3.0 wavenet-vocoder-0.1.1\n"
          ]
        }
      ]
    },
    {
      "cell_type": "code",
      "source": [
        "!pip install torch"
      ],
      "metadata": {
        "colab": {
          "base_uri": "https://localhost:8080/"
        },
        "id": "0DvH-xVHdCnj",
        "outputId": "c604f4cf-e5b7-49b5-97c0-e3e9678f4c9f"
      },
      "execution_count": null,
      "outputs": [
        {
          "output_type": "stream",
          "name": "stdout",
          "text": [
            "Looking in indexes: https://pypi.org/simple, https://us-python.pkg.dev/colab-wheels/public/simple/\n",
            "Requirement already satisfied: torch in /usr/local/lib/python3.7/dist-packages (1.11.0+cu113)\n",
            "Requirement already satisfied: typing-extensions in /usr/local/lib/python3.7/dist-packages (from torch) (4.2.0)\n"
          ]
        }
      ]
    },
    {
      "cell_type": "markdown",
      "source": [
        "# Download Checkpoints"
      ],
      "metadata": {
        "id": "_qJ8Km3Bd5wZ"
      }
    },
    {
      "cell_type": "code",
      "source": [
        "!pip install -U gdown"
      ],
      "metadata": {
        "colab": {
          "base_uri": "https://localhost:8080/"
        },
        "id": "8kgwywZydDxw",
        "outputId": "bf3f146d-e0ff-40bc-cb55-fd1539343ae7"
      },
      "execution_count": null,
      "outputs": [
        {
          "output_type": "stream",
          "name": "stdout",
          "text": [
            "Looking in indexes: https://pypi.org/simple, https://us-python.pkg.dev/colab-wheels/public/simple/\n",
            "Requirement already satisfied: gdown in /usr/local/lib/python3.7/dist-packages (4.4.0)\n",
            "Requirement already satisfied: tqdm in /usr/local/lib/python3.7/dist-packages (from gdown) (4.64.0)\n",
            "Requirement already satisfied: beautifulsoup4 in /usr/local/lib/python3.7/dist-packages (from gdown) (4.6.3)\n",
            "Requirement already satisfied: filelock in /usr/local/lib/python3.7/dist-packages (from gdown) (3.7.1)\n",
            "Requirement already satisfied: six in /usr/local/lib/python3.7/dist-packages (from gdown) (1.15.0)\n",
            "Requirement already satisfied: requests[socks] in /usr/local/lib/python3.7/dist-packages (from gdown) (2.23.0)\n",
            "Requirement already satisfied: certifi>=2017.4.17 in /usr/local/lib/python3.7/dist-packages (from requests[socks]->gdown) (2022.5.18.1)\n",
            "Requirement already satisfied: chardet<4,>=3.0.2 in /usr/local/lib/python3.7/dist-packages (from requests[socks]->gdown) (3.0.4)\n",
            "Requirement already satisfied: urllib3!=1.25.0,!=1.25.1,<1.26,>=1.21.1 in /usr/local/lib/python3.7/dist-packages (from requests[socks]->gdown) (1.24.3)\n",
            "Requirement already satisfied: idna<3,>=2.5 in /usr/local/lib/python3.7/dist-packages (from requests[socks]->gdown) (2.10)\n",
            "Requirement already satisfied: PySocks!=1.5.7,>=1.5.6 in /usr/local/lib/python3.7/dist-packages (from requests[socks]->gdown) (1.7.1)\n"
          ]
        }
      ]
    },
    {
      "cell_type": "markdown",
      "source": [
        "Download wavenet checkpoint"
      ],
      "metadata": {
        "id": "0c2L6tMqm0rC"
      }
    },
    {
      "cell_type": "code",
      "source": [
        "!mkdir /content/SpeechSplit2/models"
      ],
      "metadata": {
        "id": "QBTYs3MWd-eZ"
      },
      "execution_count": null,
      "outputs": []
    },
    {
      "cell_type": "code",
      "source": [
        "# https://drive.google.com/file/d/1Zksy0ndlDezo9wclQNZYkGi_6i7zi4nQ/view\n",
        "!gdown 1Zksy0ndlDezo9wclQNZYkGi_6i7zi4nQ"
      ],
      "metadata": {
        "colab": {
          "base_uri": "https://localhost:8080/"
        },
        "id": "26APgo0QdHT4",
        "outputId": "04e1359e-9a6d-4a09-82e9-ad2b8b465834"
      },
      "execution_count": null,
      "outputs": [
        {
          "output_type": "stream",
          "name": "stdout",
          "text": [
            "Downloading...\n",
            "From: https://drive.google.com/uc?id=1Zksy0ndlDezo9wclQNZYkGi_6i7zi4nQ\n",
            "To: /content/SpeechSplit2/checkpoint_step001000000_ema.pth\n",
            "100% 297M/297M [00:05<00:00, 53.5MB/s]\n"
          ]
        }
      ]
    },
    {
      "cell_type": "code",
      "source": [
        "!mv /content/SpeechSplit2/checkpoint_step001000000_ema.pth /content/SpeechSplit2/models/wavenet_vocoder.pth"
      ],
      "metadata": {
        "id": "z1fkr623eE90"
      },
      "execution_count": null,
      "outputs": []
    },
    {
      "cell_type": "markdown",
      "source": [
        "Download smaller bottleneck checkpoints"
      ],
      "metadata": {
        "id": "HRIAts__m3wR"
      }
    },
    {
      "cell_type": "code",
      "source": [
        "# Small Generator\n",
        "# https://drive.google.com/uc?export=download&id=1_Eo6_XxcZpk4P0jzjudkgjTKeb3Y-wMu\n",
        "!gdown 1_Eo6_XxcZpk4P0jzjudkgjTKeb3Y-wMu"
      ],
      "metadata": {
        "colab": {
          "base_uri": "https://localhost:8080/"
        },
        "id": "JjarrT5WdXLn",
        "outputId": "39823fed-c128-4c97-fbb8-1192f26112bc"
      },
      "execution_count": null,
      "outputs": [
        {
          "output_type": "stream",
          "name": "stdout",
          "text": [
            "Downloading...\n",
            "From: https://drive.google.com/uc?id=1_Eo6_XxcZpk4P0jzjudkgjTKeb3Y-wMu\n",
            "To: /content/SpeechSplit2/spsp2-small-G-800000.ckpt\n",
            "100% 77.8M/77.8M [00:01<00:00, 65.1MB/s]\n"
          ]
        }
      ]
    },
    {
      "cell_type": "code",
      "source": [
        "# Small F0 Converter\n",
        "# https://drive.google.com/uc?export=download&id=1MhWkz3UGeZSolKfw0FF0DqhHNN1e5C82\n",
        "!gdown 1MhWkz3UGeZSolKfw0FF0DqhHNN1e5C82"
      ],
      "metadata": {
        "colab": {
          "base_uri": "https://localhost:8080/"
        },
        "id": "x4sJmBDHdatp",
        "outputId": "11060afe-7b5a-4acc-8293-c961bbadedb9"
      },
      "execution_count": null,
      "outputs": [
        {
          "output_type": "stream",
          "name": "stdout",
          "text": [
            "Downloading...\n",
            "From: https://drive.google.com/uc?id=1MhWkz3UGeZSolKfw0FF0DqhHNN1e5C82\n",
            "To: /content/SpeechSplit2/spsp2-small-F-800000.ckpt\n",
            "100% 14.4M/14.4M [00:00<00:00, 39.9MB/s]\n"
          ]
        }
      ]
    },
    {
      "cell_type": "markdown",
      "source": [
        "Download large bottleneck checkpoints"
      ],
      "metadata": {
        "id": "tkgS4GEknOuM"
      }
    },
    {
      "cell_type": "code",
      "source": [
        "# Large Generator\n",
        "# https://drive.google.com/uc?export=download&id=1yTVy4BjonLdXW7kTxvEMfDf_RhuDCyBZ\n",
        "!gdown 1yTVy4BjonLdXW7kTxvEMfDf_RhuDCyBZ"
      ],
      "metadata": {
        "colab": {
          "base_uri": "https://localhost:8080/"
        },
        "id": "Sn33q1Iydikh",
        "outputId": "7cda92f9-e1f3-4de6-db0f-be768d560668"
      },
      "execution_count": null,
      "outputs": [
        {
          "output_type": "stream",
          "name": "stdout",
          "text": [
            "Downloading...\n",
            "From: https://drive.google.com/uc?id=1yTVy4BjonLdXW7kTxvEMfDf_RhuDCyBZ\n",
            "To: /content/SpeechSplit2/spsp2-large-G-800000.ckpt\n",
            "100% 80.3M/80.3M [00:01<00:00, 66.2MB/s]\n"
          ]
        }
      ]
    },
    {
      "cell_type": "code",
      "source": [
        "# Large F0 Converter\n",
        "# https://drive.google.com/uc?export=download&id=1th0OFjM1k7y3dtNcijhUy1teKY23bHL8\n",
        "! gdown 1th0OFjM1k7y3dtNcijhUy1teKY23bHL8"
      ],
      "metadata": {
        "colab": {
          "base_uri": "https://localhost:8080/"
        },
        "id": "VpgmfXNsdtnB",
        "outputId": "9eb51781-75f7-4f9f-bab9-5089d70c048c"
      },
      "execution_count": null,
      "outputs": [
        {
          "output_type": "stream",
          "name": "stdout",
          "text": [
            "Downloading...\n",
            "From: https://drive.google.com/uc?id=1th0OFjM1k7y3dtNcijhUy1teKY23bHL8\n",
            "To: /content/SpeechSplit2/spsp2-large-F-800000.ckpt\n",
            "100% 15.0M/15.0M [00:00<00:00, 35.9MB/s]\n"
          ]
        }
      ]
    },
    {
      "cell_type": "code",
      "source": [
        "!mv spsp2-* /content/SpeechSplit2/models"
      ],
      "metadata": {
        "id": "xq4BjjGlnXK-"
      },
      "execution_count": null,
      "outputs": []
    },
    {
      "cell_type": "markdown",
      "source": [
        "# Executing"
      ],
      "metadata": {
        "id": "F0kBpIQqeYTx"
      }
    },
    {
      "cell_type": "code",
      "source": [
        "import os\n",
        "import yaml\n",
        "from collections import OrderedDict\n",
        "\n",
        "import torch\n",
        "import numpy as np\n",
        "from soundfile import read, write\n",
        "\n",
        "from model import Generator_3 as Generator\n",
        "from model import Generator_6 as F0_Converter\n",
        "from wavenet import Synthesizer\n",
        "from utils import *"
      ],
      "metadata": {
        "id": "1wFfGwpXeOR-"
      },
      "execution_count": null,
      "outputs": []
    },
    {
      "cell_type": "code",
      "source": [
        "def load_ckpt(model, ckpt_path):\n",
        "    ckpt = torch.load(ckpt_path, map_location=lambda storage, loc: storage)\n",
        "    try:\n",
        "        model.load_state_dict(ckpt['model'])\n",
        "    except:\n",
        "        new_state_dict = OrderedDict()\n",
        "        for k, v in ckpt['model'].items():\n",
        "            new_state_dict[k[7:]] = v\n",
        "        model.load_state_dict(new_state_dict)\n",
        "\n",
        "def pad_fea(fea):\n",
        "    return np.pad(fea, ((0,T-len(fea)), (0,0)), 'constant')\n",
        "\n",
        "def create_feats(wav, gen, spk_id, config):\n",
        "    if gen == 'M':\n",
        "        lo, hi = 50, 250\n",
        "    else:\n",
        "        lo, hi = 100, 600\n",
        "\n",
        "    if wav.shape[0] % 256 == 0:\n",
        "        wav = np.concatenate((wav, np.array([1e-06])), axis=0)\n",
        "    _, f0_norm = extract_f0(wav, fs, lo, hi)\n",
        "    f0, sp, ap = get_world_params(wav, fs)\n",
        "    f0 = average_f0s([f0])[0]\n",
        "    wav_mono = get_monotonic_wav(wav, f0, sp, ap, fs)\n",
        "\n",
        "    rhy_input = pad_fea(get_spenv(wav_mono))\n",
        "    con_input = pad_fea(get_spmel(wav_mono))\n",
        "    pit_input = pad_fea(quantize_f0_numpy(f0_norm)[0])\n",
        "    tim_input = np.zeros((82,), dtype=np.float32)\n",
        "    tim_input[int(spk_id)] = 1.0\n",
        "\n",
        "    return (torch.FloatTensor(x).unsqueeze(0).to(device) for x in (rhy_input, con_input, pit_input, tim_input))\n",
        "\n",
        "def convert_sp(model, rhy_input, con_input, pit_input, tim_input):\n",
        "    rhy_code = model.rhythm(rhy_input)\n",
        "    con_code, pit_code = model.content_pitch(torch.cat((con_input, pit_input), dim=-1), rr=False)\n",
        "    sp_output = model.decode(con_code, rhy_code, pit_code, tim_input, T).cpu().numpy()[0]\n",
        "    \n",
        "    return sp_output\n",
        "\n",
        "def convert_pit(model, rhy_input, con_input, pit_input):\n",
        "    pit_input = torch.cat([con_input, pit_input], dim=-1)\n",
        "    rhy_input = torch.nn.functional.pad(rhy_input, (0, 0, 0, T-rhy_input.size(1), 0, 0))\n",
        "    pit_input = torch.nn.functional.pad(pit_input, (0, 0, 0, T-pit_input.size(1), 0, 0))\n",
        "    pit_input = model(rhy_input, pit_input, rr=False) # disable random resampling at inference time\n",
        "\n",
        "    return pit_input"
      ],
      "metadata": {
        "id": "MxtXhWSceam8"
      },
      "execution_count": null,
      "outputs": []
    },
    {
      "cell_type": "code",
      "source": [
        "config_name = 'spsp2-large' # or 'spsp2-small'\n",
        "config = yaml.safe_load(open(f'configs/{config_name}.yaml', 'r'))\n",
        "config = Dict2Class(config)\n",
        "config.train = False\n",
        "\n",
        "T = 192 # maximum number of frames in the output mel-spectrogram\n",
        "device = torch.device(\"cuda\" if torch.cuda.is_available() else \"cpu\")\n",
        "fs = 16000\n",
        "S = Synthesizer(device)\n",
        "S.load_ckpt('models/wavenet_vocoder.pth')\n",
        "\n",
        "G = Generator(config).eval().to(device)\n",
        "load_ckpt(G, f'models/{config_name}-G-800000.ckpt')\n",
        "\n",
        "config.dim_pit = config.dim_con+config.dim_pit\n",
        "F = F0_Converter(config).eval().to(device)\n",
        "load_ckpt(F, f'models/{config_name}-F-800000.ckpt')"
      ],
      "metadata": {
        "id": "dBpbYqykeizA"
      },
      "execution_count": null,
      "outputs": []
    },
    {
      "cell_type": "code",
      "source": [
        "result_dir = 'result'\n",
        "if not os.path.exists(result_dir):\n",
        "    os.makedirs(result_dir)\n",
        "src_wav, _ = read('data/test/p225_001.wav')\n",
        "tgt_wav, _ = read('data/test/p258_001.wav')\n",
        "\n",
        "with torch.no_grad():\n",
        "    conds = ['R', 'F', 'U', 'RF', 'RU', 'FU', 'RFU']\n",
        "    for cond in conds:\n",
        "        src_rhy, src_con, src_pit, src_tim = create_feats(src_wav, 'F', 0, config)\n",
        "        tgt_rhy, tgt_con, tgt_pit, tgt_tim = create_feats(tgt_wav, 'M', 31, config)\n",
        "        inp_rhy, inp_con, inp_pit, inp_tim = src_rhy, src_con, src_pit, src_tim\n",
        "        if 'R' in cond:\n",
        "            inp_rhy = tgt_rhy\n",
        "        if 'U' in cond:\n",
        "            inp_tim = tgt_tim\n",
        "        if 'F' in cond:\n",
        "            inp_pit = convert_pit(F, src_rhy, tgt_con, tgt_pit)\n",
        "        out_sp = convert_sp(G, inp_rhy, inp_con, inp_pit, inp_tim)\n",
        "        out_wav = S.spect2wav(out_sp)\n",
        "        write(os.path.join(result_dir, f'p225_p258_001_{cond}.wav'), out_wav, fs)\n"
      ],
      "metadata": {
        "colab": {
          "base_uri": "https://localhost:8080/"
        },
        "id": "3GwRPFthemBJ",
        "outputId": "f37464ef-b65f-4d5a-bbec-d7862461d441"
      },
      "execution_count": null,
      "outputs": [
        {
          "output_type": "stream",
          "name": "stderr",
          "text": [
            "100%|██████████| 49152/49152 [07:16<00:00, 112.52it/s]\n",
            "100%|██████████| 49152/49152 [07:15<00:00, 112.76it/s]\n",
            "100%|██████████| 49152/49152 [07:13<00:00, 113.44it/s]\n",
            "100%|██████████| 49152/49152 [07:10<00:00, 114.08it/s]\n",
            "100%|██████████| 49152/49152 [07:10<00:00, 114.14it/s]\n",
            "100%|██████████| 49152/49152 [07:10<00:00, 114.21it/s]\n",
            "100%|██████████| 49152/49152 [07:09<00:00, 114.36it/s]\n"
          ]
        }
      ]
    },
    {
      "cell_type": "markdown",
      "source": [
        "Let's download the results"
      ],
      "metadata": {
        "id": "fBkxQCPImh-y"
      }
    },
    {
      "cell_type": "code",
      "source": [
        "!tar -jcvf result.tar.bz result"
      ],
      "metadata": {
        "colab": {
          "base_uri": "https://localhost:8080/"
        },
        "id": "hJ_PfTbmlTuK",
        "outputId": "2f410904-f2b7-4610-c086-b719bebb9bd1"
      },
      "execution_count": null,
      "outputs": [
        {
          "output_type": "stream",
          "name": "stdout",
          "text": [
            "result/\n",
            "result/p225_p258_001_F.wav\n",
            "result/p225_p258_001_R.wav\n",
            "result/p225_p258_001_RF.wav\n",
            "result/p225_p258_001_U.wav\n",
            "result/p225_p258_001_FU.wav\n",
            "result/p225_p258_001_RU.wav\n",
            "result/p225_p258_001_RFU.wav\n"
          ]
        }
      ]
    },
    {
      "cell_type": "code",
      "source": [
        "from google.colab import files\n",
        "files.download('/content/SpeechSplit2/result.tar.bz')"
      ],
      "metadata": {
        "colab": {
          "base_uri": "https://localhost:8080/",
          "height": 17
        },
        "id": "etqYBvwYlXYx",
        "outputId": "08cd6fad-b59d-4b9c-d0dc-6b189a6cfa6c"
      },
      "execution_count": null,
      "outputs": [
        {
          "output_type": "display_data",
          "data": {
            "text/plain": [
              "<IPython.core.display.Javascript object>"
            ],
            "application/javascript": [
              "\n",
              "    async function download(id, filename, size) {\n",
              "      if (!google.colab.kernel.accessAllowed) {\n",
              "        return;\n",
              "      }\n",
              "      const div = document.createElement('div');\n",
              "      const label = document.createElement('label');\n",
              "      label.textContent = `Downloading \"${filename}\": `;\n",
              "      div.appendChild(label);\n",
              "      const progress = document.createElement('progress');\n",
              "      progress.max = size;\n",
              "      div.appendChild(progress);\n",
              "      document.body.appendChild(div);\n",
              "\n",
              "      const buffers = [];\n",
              "      let downloaded = 0;\n",
              "\n",
              "      const channel = await google.colab.kernel.comms.open(id);\n",
              "      // Send a message to notify the kernel that we're ready.\n",
              "      channel.send({})\n",
              "\n",
              "      for await (const message of channel.messages) {\n",
              "        // Send a message to notify the kernel that we're ready.\n",
              "        channel.send({})\n",
              "        if (message.buffers) {\n",
              "          for (const buffer of message.buffers) {\n",
              "            buffers.push(buffer);\n",
              "            downloaded += buffer.byteLength;\n",
              "            progress.value = downloaded;\n",
              "          }\n",
              "        }\n",
              "      }\n",
              "      const blob = new Blob(buffers, {type: 'application/binary'});\n",
              "      const a = document.createElement('a');\n",
              "      a.href = window.URL.createObjectURL(blob);\n",
              "      a.download = filename;\n",
              "      div.appendChild(a);\n",
              "      a.click();\n",
              "      div.remove();\n",
              "    }\n",
              "  "
            ]
          },
          "metadata": {}
        },
        {
          "output_type": "display_data",
          "data": {
            "text/plain": [
              "<IPython.core.display.Javascript object>"
            ],
            "application/javascript": [
              "download(\"download_c73b7cb6-453c-49ef-97de-b1285a85261e\", \"result.tar.bz\", 331432)"
            ]
          },
          "metadata": {}
        }
      ]
    }
  ]
}